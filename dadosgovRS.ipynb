{
  "nbformat": 4,
  "nbformat_minor": 0,
  "metadata": {
    "colab": {
      "name": "dadosgovRS.ipynb",
      "provenance": [],
      "authorship_tag": "ABX9TyNw7WGq4glJ4kggtujs3vWF"
    },
    "kernelspec": {
      "name": "python3",
      "display_name": "Python 3"
    },
    "language_info": {
      "name": "python"
    }
  },
  "cells": [
    {
      "cell_type": "code",
      "metadata": {
        "id": "bgB9_WfMm-PC"
      },
      "source": [
        "import pandas as pd\n",
        "import numpy as np\n",
        "import matplotlib.pyplot as plt\n",
        "import seaborn as sns"
      ],
      "execution_count": 20,
      "outputs": []
    },
    {
      "cell_type": "code",
      "metadata": {
        "colab": {
          "base_uri": "https://localhost:8080/",
          "height": 204
        },
        "id": "3qD9F6LknVbF",
        "outputId": "865beafa-1a86-49b9-bc38-14d40367f6a3"
      },
      "source": [
        "dataset = pd.read_csv('https://raw.githubusercontent.com/hecpinheiro/Ciencia-de-dados/main/database/dadosgovrs.csv')\n",
        "dataset.head()"
      ],
      "execution_count": 19,
      "outputs": [
        {
          "output_type": "execute_result",
          "data": {
            "text/html": [
              "<div>\n",
              "<style scoped>\n",
              "    .dataframe tbody tr th:only-of-type {\n",
              "        vertical-align: middle;\n",
              "    }\n",
              "\n",
              "    .dataframe tbody tr th {\n",
              "        vertical-align: top;\n",
              "    }\n",
              "\n",
              "    .dataframe thead th {\n",
              "        text-align: right;\n",
              "    }\n",
              "</style>\n",
              "<table border=\"1\" class=\"dataframe\">\n",
              "  <thead>\n",
              "    <tr style=\"text-align: right;\">\n",
              "      <th></th>\n",
              "      <th>CODIGO</th>\n",
              "      <th>MUNICIPIO</th>\n",
              "      <th>PIB</th>\n",
              "      <th>VALOREMPENHO</th>\n",
              "    </tr>\n",
              "  </thead>\n",
              "  <tbody>\n",
              "    <tr>\n",
              "      <th>0</th>\n",
              "      <td>106</td>\n",
              "      <td>SANTANA DO LIVRAMENTO</td>\n",
              "      <td>12240.76</td>\n",
              "      <td>1088666.10</td>\n",
              "    </tr>\n",
              "    <tr>\n",
              "      <th>1</th>\n",
              "      <td>113</td>\n",
              "      <td>SANTO ANGELO</td>\n",
              "      <td>16575.82</td>\n",
              "      <td>800669.92</td>\n",
              "    </tr>\n",
              "    <tr>\n",
              "      <th>2</th>\n",
              "      <td>118</td>\n",
              "      <td>SAO FRANCISCO DE ASSIS</td>\n",
              "      <td>12037.61</td>\n",
              "      <td>466122.80</td>\n",
              "    </tr>\n",
              "    <tr>\n",
              "      <th>3</th>\n",
              "      <td>13</td>\n",
              "      <td>CACAPAVA DO SUL</td>\n",
              "      <td>13674.54</td>\n",
              "      <td>485535.86</td>\n",
              "    </tr>\n",
              "    <tr>\n",
              "      <th>4</th>\n",
              "      <td>120</td>\n",
              "      <td>SAO GABRIEL</td>\n",
              "      <td>19912.38</td>\n",
              "      <td>533719.86</td>\n",
              "    </tr>\n",
              "  </tbody>\n",
              "</table>\n",
              "</div>"
            ],
            "text/plain": [
              "   CODIGO               MUNICIPIO       PIB  VALOREMPENHO\n",
              "0     106   SANTANA DO LIVRAMENTO  12240.76    1088666.10\n",
              "1     113            SANTO ANGELO  16575.82     800669.92\n",
              "2     118  SAO FRANCISCO DE ASSIS  12037.61     466122.80\n",
              "3      13         CACAPAVA DO SUL  13674.54     485535.86\n",
              "4     120             SAO GABRIEL  19912.38     533719.86"
            ]
          },
          "metadata": {
            "tags": []
          },
          "execution_count": 19
        }
      ]
    },
    {
      "cell_type": "code",
      "metadata": {
        "colab": {
          "base_uri": "https://localhost:8080/"
        },
        "id": "-j2odJl-nn_l",
        "outputId": "31837755-cfea-4f53-cf7b-43048059a3b1"
      },
      "source": [
        "dataset.info()"
      ],
      "execution_count": 10,
      "outputs": [
        {
          "output_type": "stream",
          "text": [
            "<class 'pandas.core.frame.DataFrame'>\n",
            "RangeIndex: 187 entries, 0 to 186\n",
            "Data columns (total 4 columns):\n",
            " #   Column        Non-Null Count  Dtype  \n",
            "---  ------        --------------  -----  \n",
            " 0   CODIGO        187 non-null    int64  \n",
            " 1   MUNICIPIO     187 non-null    object \n",
            " 2   PIB           187 non-null    float64\n",
            " 3   VALOREMPENHO  187 non-null    float64\n",
            "dtypes: float64(2), int64(1), object(1)\n",
            "memory usage: 6.0+ KB\n"
          ],
          "name": "stdout"
        }
      ]
    },
    {
      "cell_type": "code",
      "metadata": {
        "colab": {
          "base_uri": "https://localhost:8080/"
        },
        "id": "VBt-WFbznoT4",
        "outputId": "44e6cae5-639e-48b4-d397-9ba441c34e94"
      },
      "source": [
        "dataset.isnull().sum()"
      ],
      "execution_count": 11,
      "outputs": [
        {
          "output_type": "execute_result",
          "data": {
            "text/plain": [
              "CODIGO          0\n",
              "MUNICIPIO       0\n",
              "PIB             0\n",
              "VALOREMPENHO    0\n",
              "dtype: int64"
            ]
          },
          "metadata": {
            "tags": []
          },
          "execution_count": 11
        }
      ]
    },
    {
      "cell_type": "code",
      "metadata": {
        "colab": {
          "base_uri": "https://localhost:8080/",
          "height": 361
        },
        "id": "DXVrJF4A5mlH",
        "outputId": "2c272ef4-91c3-45a5-87e2-023eddbb774a"
      },
      "source": [
        "sns.distplot(dataset.iloc[:,2], hist = True, kde = True,\n",
        "             bins = 187, color = 'blue',\n",
        "             hist_kws = {'edgecolor': 'black'})"
      ],
      "execution_count": 38,
      "outputs": [
        {
          "output_type": "stream",
          "text": [
            "/usr/local/lib/python3.7/dist-packages/seaborn/distributions.py:2557: FutureWarning: `distplot` is a deprecated function and will be removed in a future version. Please adapt your code to use either `displot` (a figure-level function with similar flexibility) or `histplot` (an axes-level function for histograms).\n",
            "  warnings.warn(msg, FutureWarning)\n"
          ],
          "name": "stderr"
        },
        {
          "output_type": "execute_result",
          "data": {
            "text/plain": [
              "<matplotlib.axes._subplots.AxesSubplot at 0x7f4ec2fcb450>"
            ]
          },
          "metadata": {
            "tags": []
          },
          "execution_count": 38
        },
        {
          "output_type": "display_data",
          "data": {
            "image/png": "[encoded data removed]",
            "text/plain": [
              "<Figure size 432x288 with 1 Axes>"
            ]
          },
          "metadata": {
            "tags": [],
            "needs_background": "light"
          }
        }
      ]
    }
  ]
}